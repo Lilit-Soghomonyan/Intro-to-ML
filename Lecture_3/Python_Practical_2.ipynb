{
 "cells": [
  {
   "cell_type": "markdown",
   "metadata": {},
   "source": [
    "### Practical 2"
   ]
  },
  {
   "cell_type": "markdown",
   "metadata": {},
   "source": [
    "### 1"
   ]
  },
  {
   "cell_type": "code",
   "execution_count": 4,
   "metadata": {},
   "outputs": [
    {
     "name": "stdout",
     "output_type": "stream",
     "text": [
      "6.0\n"
     ]
    }
   ],
   "source": [
    "def avg(a,b,c):\n",
    "    z=(a+b+c)/3\n",
    "    return z\n",
    "\n",
    "print(avg(5,6,7))"
   ]
  },
  {
   "cell_type": "markdown",
   "metadata": {},
   "source": [
    "### 2"
   ]
  },
  {
   "cell_type": "code",
   "execution_count": 5,
   "metadata": {},
   "outputs": [
    {
     "data": {
      "text/plain": [
       "2"
      ]
     },
     "execution_count": 5,
     "metadata": {},
     "output_type": "execute_result"
    }
   ],
   "source": [
    "def func(*args):\n",
    "    return len([i for i in args if i%2==0])\n",
    "\n",
    "func(1,3,4,6)"
   ]
  },
  {
   "cell_type": "markdown",
   "metadata": {},
   "source": [
    "### 3"
   ]
  },
  {
   "cell_type": "code",
   "execution_count": 6,
   "metadata": {},
   "outputs": [],
   "source": [
    "def my_function(name, *args):\n",
    "    if len(args)>0:\n",
    "        avg_grade = sum(args)/len(args)\n",
    "        print(\"%s, your average grade is %s.\" % (name, avg_grade))\n",
    "    else:\n",
    "        print(\"No grades available for %s.\" % name)"
   ]
  },
  {
   "cell_type": "code",
   "execution_count": 7,
   "metadata": {},
   "outputs": [
    {
     "name": "stdout",
     "output_type": "stream",
     "text": [
      "Marcus, your average grade is 8.5.\n"
     ]
    }
   ],
   "source": [
    "my_function(\"Marcus\",8,10,9,7)"
   ]
  },
  {
   "cell_type": "markdown",
   "metadata": {},
   "source": [
    "### 4"
   ]
  },
  {
   "cell_type": "code",
   "execution_count": 8,
   "metadata": {},
   "outputs": [],
   "source": [
    "class Circle:\n",
    "    def __init__(self, color, radius):\n",
    "        self.color = color\n",
    "        self.radius = radius\n",
    "    \n",
    "    def getDesc(self):\n",
    "        print(\"A %s circle with radius %s\" % (self.color, str(self.radius)))"
   ]
  },
  {
   "cell_type": "code",
   "execution_count": 9,
   "metadata": {},
   "outputs": [
    {
     "name": "stdout",
     "output_type": "stream",
     "text": [
      "A blue circle with radius 6.9\n"
     ]
    }
   ],
   "source": [
    "circ1=Circle(\"blue\",6.9)\n",
    "circ1.getDesc()"
   ]
  },
  {
   "cell_type": "markdown",
   "metadata": {},
   "source": [
    "### 5"
   ]
  },
  {
   "cell_type": "code",
   "execution_count": 10,
   "metadata": {},
   "outputs": [
    {
     "name": "stdout",
     "output_type": "stream",
     "text": [
      "Marcus Willius\n",
      "High\n",
      "Valdemar Schmidt\n",
      "Law\n"
     ]
    }
   ],
   "source": [
    "class Employee:\n",
    "    def __init__(self, name, last_name, monthly_salary):\n",
    "        self.name = name\n",
    "        self.last_name = last_name\n",
    "        self.__monthly_salary = monthly_salary\n",
    "        \n",
    "    def getFullName(self):\n",
    "        print(self.name, self.last_name)\n",
    "    \n",
    "    def annualSalary(self):\n",
    "        if self.__monthly_salary*12 > 100:\n",
    "            print(\"High\")\n",
    "        else:\n",
    "            print(\"Law\")\n",
    " \n",
    "emp1=Employee(\"Marcus\", \"Willius\", 10)\n",
    "emp2=Employee(\"Valdemar\", \"Schmidt\", 5)\n",
    "\n",
    "emp1.getFullName()\n",
    "emp1.annualSalary()\n",
    "\n",
    "emp2.getFullName()\n",
    "emp2.annualSalary()"
   ]
  },
  {
   "cell_type": "markdown",
   "metadata": {},
   "source": [
    "### 6"
   ]
  },
  {
   "cell_type": "code",
   "execution_count": 17,
   "metadata": {
    "scrolled": true
   },
   "outputs": [
    {
     "data": {
      "text/plain": [
       "'Car1 is better than car2'"
      ]
     },
     "execution_count": 17,
     "metadata": {},
     "output_type": "execute_result"
    }
   ],
   "source": [
    "class Cars:\n",
    "    def __init__(self, model, color, max_speed):\n",
    "        self.model = model\n",
    "        self.color = color\n",
    "        self.max_speed = max_speed\n",
    "    \n",
    "    def compareCar(self, car2):\n",
    "        self.car2 = car2\n",
    "        if self.max_speed > car2.max_speed:\n",
    "            return \"Car1 is better than car2\"\n",
    "        else:\n",
    "            return \"Car2 is better than car1\"\n",
    "        \n",
    "car1 = Cars(\"Tesla\", \"Red\", 155)\n",
    "car2 = Cars(\"BMW\", \"Black\", 150)\n",
    "\n",
    "car1.compareCar(car2)"
   ]
  },
  {
   "cell_type": "markdown",
   "metadata": {},
   "source": [
    "### 7"
   ]
  },
  {
   "cell_type": "code",
   "execution_count": 25,
   "metadata": {},
   "outputs": [
    {
     "name": "stdout",
     "output_type": "stream",
     "text": [
      "I can move.\n"
     ]
    }
   ],
   "source": [
    "class Animal:\n",
    "    def __init__(self, name):\n",
    "        self.name = name\n",
    "        \n",
    "    def move(self):\n",
    "        print(\"I can move.\")\n",
    "\n",
    "class Dog(Animal):\n",
    "    def __init__(self):\n",
    "        super().__init__(\"Dog\")\n",
    "    \n",
    "\n",
    "dog1 = Dog()\n",
    "dog1.move()"
   ]
  },
  {
   "cell_type": "code",
   "execution_count": 26,
   "metadata": {},
   "outputs": [
    {
     "name": "stdout",
     "output_type": "stream",
     "text": [
      "I can run really fast.\n"
     ]
    }
   ],
   "source": [
    "class Animal:\n",
    "    def __init__(self, name):\n",
    "        self.name = name\n",
    "        \n",
    "    def move(self):\n",
    "        print(\"I can move.\")\n",
    "\n",
    "class Dog(Animal):\n",
    "    def __init__(self):\n",
    "        super().__init__(\"Dog\")\n",
    "        \n",
    "    def move(self):\n",
    "        print(\"I can run really fast.\")\n",
    "        \n",
    "dog1 = Dog()\n",
    "dog1.move()"
   ]
  }
 ],
 "metadata": {
  "kernelspec": {
   "display_name": "Python 3",
   "language": "python",
   "name": "python3"
  },
  "language_info": {
   "codemirror_mode": {
    "name": "ipython",
    "version": 3
   },
   "file_extension": ".py",
   "mimetype": "text/x-python",
   "name": "python",
   "nbconvert_exporter": "python",
   "pygments_lexer": "ipython3",
   "version": "3.7.6"
  }
 },
 "nbformat": 4,
 "nbformat_minor": 4
}
