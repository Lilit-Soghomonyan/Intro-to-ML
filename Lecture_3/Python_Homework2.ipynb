{
 "cells": [
  {
   "cell_type": "markdown",
   "metadata": {},
   "source": [
    "## Homework 2"
   ]
  },
  {
   "cell_type": "markdown",
   "metadata": {},
   "source": [
    "### 1"
   ]
  },
  {
   "cell_type": "code",
   "execution_count": 17,
   "metadata": {},
   "outputs": [
    {
     "name": "stdout",
     "output_type": "stream",
     "text": [
      "no numbers given\n"
     ]
    },
    {
     "data": {
      "text/plain": [
       "8"
      ]
     },
     "execution_count": 17,
     "metadata": {},
     "output_type": "execute_result"
    }
   ],
   "source": [
    "def my_max(*args):\n",
    "    x = 0\n",
    "    if len(args)>0:\n",
    "        for i in args:\n",
    "            if i > x:\n",
    "                x = i\n",
    "        return x\n",
    "    else:\n",
    "        print(\"no numbers given\")\n",
    "\n",
    "my_max()\n",
    "my_max(3,5,1,8,2)"
   ]
  },
  {
   "cell_type": "markdown",
   "metadata": {},
   "source": [
    "### 2"
   ]
  },
  {
   "cell_type": "code",
   "execution_count": 18,
   "metadata": {},
   "outputs": [
    {
     "data": {
      "text/plain": [
       "[1, 2, 3, 4]"
      ]
     },
     "execution_count": 18,
     "metadata": {},
     "output_type": "execute_result"
    }
   ],
   "source": [
    "def func(list1: list):\n",
    "    list2 = set(list1)\n",
    "    return list(list2)\n",
    "\n",
    "func([1,2,3,2,4,4,1])"
   ]
  },
  {
   "cell_type": "markdown",
   "metadata": {},
   "source": [
    "### 3"
   ]
  },
  {
   "cell_type": "code",
   "execution_count": 16,
   "metadata": {},
   "outputs": [
    {
     "name": "stdout",
     "output_type": "stream",
     "text": [
      "[0, 1, 1, 2, 3, 5, 8, 13, 21]\n"
     ]
    },
    {
     "data": {
      "text/plain": [
       "21"
      ]
     },
     "execution_count": 16,
     "metadata": {},
     "output_type": "execute_result"
    }
   ],
   "source": [
    "def my_fib(n):\n",
    "    list1=[0,1]\n",
    "    i=2\n",
    "    while i<=n:\n",
    "        list1.append(list1[i-1]+list1[i-2])\n",
    "        i=i+1\n",
    "    print(list1)\n",
    "    return list1[n]\n",
    "   \n",
    "my_fib(8)"
   ]
  },
  {
   "cell_type": "markdown",
   "metadata": {},
   "source": [
    "### 4"
   ]
  },
  {
   "cell_type": "code",
   "execution_count": 19,
   "metadata": {},
   "outputs": [
    {
     "name": "stdout",
     "output_type": "stream",
     "text": [
      "Welcome dear Marcus.\n",
      "Bye Everyone!\n",
      "My favourite number is 42\n"
     ]
    },
    {
     "data": {
      "text/plain": [
       "'newpass123'"
      ]
     },
     "execution_count": 19,
     "metadata": {},
     "output_type": "execute_result"
    }
   ],
   "source": [
    "class Person:\n",
    "    def __init__(self, name, last_name, age, gender, student, password):\n",
    "        self.name = name\n",
    "        self.last_name = last_name\n",
    "        self.age = age\n",
    "        self.student = student\n",
    "        self.__password = password\n",
    "    \n",
    "    def Greeting(self,second_person):\n",
    "        print (\"Welcome dear\",second_person.name+\".\")\n",
    "        \n",
    "    def Goodbye(self):\n",
    "        print(\"Bye Everyone!\")\n",
    "        \n",
    "    def Favourite_num(self, num1):\n",
    "        self.num1=num1\n",
    "        print(\"My favourite number is\", num1)\n",
    "    \n",
    "    def Read_file(self, filename):\n",
    "        f = open(filename, +\".txt\", \"r\")\n",
    "        print(f.read())\n",
    "    \n",
    "    def set_password(self, new_password):\n",
    "        self.__password = new_password\n",
    "    \n",
    "    def get_password(self):\n",
    "        return self.__password\n",
    "        \n",
    "    \n",
    "\n",
    "p1 = Person(\"Philip\", \"Trevino\", 81, \"male\", False, \"pass123\")\n",
    "p2 = Person(\"Marcus\", \"Newman\", 81, \"male\", False, \"pass456\")\n",
    "\n",
    "p1.Greeting(p2)\n",
    "p1.Goodbye()\n",
    "p1.Favourite_num(42)\n",
    "p2.set_password(\"newpass123\")\n",
    "p2.get_password()\n"
   ]
  },
  {
   "cell_type": "markdown",
   "metadata": {},
   "source": [
    "### 5"
   ]
  },
  {
   "cell_type": "code",
   "execution_count": 20,
   "metadata": {},
   "outputs": [],
   "source": [
    "class Calculation:\n",
    "    def __init__(self,x,y):\n",
    "        self.x = x\n",
    "        self.y = y \n",
    "        \n",
    "    def addition(self):\n",
    "        print(self.x + self.y)\n",
    "        \n",
    "    def subtraction(self):\n",
    "        print(self.x - self.y)\n",
    "        \n",
    "class MyCalculation(Calculation):\n",
    "    def __init__(self,x,y):\n",
    "        super().__init__(x,y)\n",
    "        \n",
    "    def multiplication(self):\n",
    "        print(self.x*self.y)\n",
    "        \n",
    "    def division(self):\n",
    "        print(self.x/self.y)\n",
    "    "
   ]
  },
  {
   "cell_type": "code",
   "execution_count": 21,
   "metadata": {},
   "outputs": [
    {
     "name": "stdout",
     "output_type": "stream",
     "text": [
      "8\n",
      "-2\n",
      "15\n",
      "0.6\n"
     ]
    }
   ],
   "source": [
    "b = MyCalculation(3,5)\n",
    "b.addition()\n",
    "b.subtraction()\n",
    "b.multiplication()\n",
    "b.division()"
   ]
  },
  {
   "cell_type": "code",
   "execution_count": null,
   "metadata": {},
   "outputs": [],
   "source": []
  }
 ],
 "metadata": {
  "kernelspec": {
   "display_name": "Python 3",
   "language": "python",
   "name": "python3"
  },
  "language_info": {
   "codemirror_mode": {
    "name": "ipython",
    "version": 3
   },
   "file_extension": ".py",
   "mimetype": "text/x-python",
   "name": "python",
   "nbconvert_exporter": "python",
   "pygments_lexer": "ipython3",
   "version": "3.7.6"
  }
 },
 "nbformat": 4,
 "nbformat_minor": 4
}
