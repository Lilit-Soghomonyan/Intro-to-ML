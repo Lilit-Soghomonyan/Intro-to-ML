{
 "cells": [
  {
   "cell_type": "code",
   "execution_count": 4,
   "metadata": {},
   "outputs": [
    {
     "name": "stderr",
     "output_type": "stream",
     "text": [
      "/opt/anaconda3/lib/python3.7/site-packages/sklearn/utils/deprecation.py:144: FutureWarning: The sklearn.datasets.samples_generator module is  deprecated in version 0.22 and will be removed in version 0.24. The corresponding classes / functions should instead be imported from sklearn.datasets. Anything that cannot be imported from sklearn.datasets is now part of the private API.\n",
      "  warnings.warn(message, FutureWarning)\n"
     ]
    }
   ],
   "source": [
    "import numpy as np\n",
    "import pandas as pd\n",
    "from matplotlib import pyplot as plt\n",
    "from sklearn.datasets.samples_generator import make_blobs\n",
    "from sklearn.cluster import KMeans"
   ]
  },
  {
   "cell_type": "markdown",
   "metadata": {},
   "source": [
    "# Implement KMeans"
   ]
  },
  {
   "cell_type": "markdown",
   "metadata": {},
   "source": [
    "you will need"
   ]
  },
  {
   "cell_type": "markdown",
   "metadata": {},
   "source": [
    "1. function to return clusters (in any way you think is ok) for the given data and centroids"
   ]
  },
  {
   "cell_type": "markdown",
   "metadata": {},
   "source": [
    "2. function to return centroids (in any way you think is ok) for the given data"
   ]
  },
  {
   "cell_type": "markdown",
   "metadata": {},
   "source": [
    "3. several iterations over steps 1 and 2"
   ]
  },
  {
   "cell_type": "code",
   "execution_count": 23,
   "metadata": {},
   "outputs": [],
   "source": [
    "X, y = make_blobs(n_samples=400, centers=4, cluster_std=0.60, random_state=0)"
   ]
  },
  {
   "cell_type": "code",
   "execution_count": 24,
   "metadata": {},
   "outputs": [
    {
     "data": {
      "text/plain": [
       "array([[ 1.07627418,  4.68480619],\n",
       "       [ 2.47434181,  0.89992619],\n",
       "       [ 3.22881491,  1.13171965],\n",
       "       [-0.96142314,  2.75732541]])"
      ]
     },
     "execution_count": 24,
     "metadata": {},
     "output_type": "execute_result"
    }
   ],
   "source": [
    "centroid=np.random.permutation(X)[:4]\n",
    "centroid"
   ]
  },
  {
   "cell_type": "code",
   "execution_count": 25,
   "metadata": {},
   "outputs": [],
   "source": [
    "def calc_distance(a,b):\n",
    "    return (sum((a-b)**2))**0.5"
   ]
  },
  {
   "cell_type": "code",
   "execution_count": 26,
   "metadata": {},
   "outputs": [],
   "source": [
    "def clusters(data,centroids):\n",
    "    clusters=[]\n",
    "    for i in range(data.shape[0]):\n",
    "        distances=[]\n",
    "        for j in centroids:\n",
    "            distances.append(calc_distance(j, data[i]))\n",
    "    \n",
    "        for x, y in enumerate(distances):\n",
    "            if y == min(distances):\n",
    "                clusters.append(x)                \n",
    "    \n",
    "    return clusters"
   ]
  },
  {
   "cell_type": "code",
   "execution_count": 27,
   "metadata": {},
   "outputs": [
    {
     "data": {
      "text/plain": [
       "list"
      ]
     },
     "execution_count": 27,
     "metadata": {},
     "output_type": "execute_result"
    }
   ],
   "source": [
    "new_clusters=clusters(X,centroid)\n",
    "type(new_clusters)"
   ]
  },
  {
   "cell_type": "code",
   "execution_count": 28,
   "metadata": {},
   "outputs": [],
   "source": [
    "def find_centroids(clusters,data):\n",
    "    df = pd.concat([pd.DataFrame(X, columns=['x','y']),pd.DataFrame(clusters, columns=['cluster'])], axis=1)\n",
    "    _centroids = df.groupby('cluster').mean()\n",
    "    return _centroids"
   ]
  },
  {
   "cell_type": "code",
   "execution_count": 29,
   "metadata": {},
   "outputs": [
    {
     "data": {
      "text/plain": [
       "array([[-0.16886154,  6.10670409],\n",
       "       [ 1.8927151 ,  0.81282579],\n",
       "       [ 3.13388584,  1.03608552],\n",
       "       [-1.5300029 ,  2.85046367]])"
      ]
     },
     "execution_count": 29,
     "metadata": {},
     "output_type": "execute_result"
    }
   ],
   "source": [
    "a=find_centroids(new_clusters,X)\n",
    "new_centroids=a.values\n",
    "new_centroids"
   ]
  },
  {
   "cell_type": "code",
   "execution_count": 30,
   "metadata": {},
   "outputs": [],
   "source": [
    "new_clusters=clusters(X,new_centroids)"
   ]
  },
  {
   "cell_type": "code",
   "execution_count": 36,
   "metadata": {},
   "outputs": [
    {
     "name": "stdout",
     "output_type": "stream",
     "text": [
      "[[-1.2689694   7.75608144]\n",
      " [ 1.95662677  0.83945671]\n",
      " [ 0.95041055  4.36874542]\n",
      " [-1.61366997  2.84849883]] \n",
      " [0, 3, 3, 2, 3, 0, 1, 2, 3, 1, 0, 1, 2, 3, 3, 1, 3, 1, 2, 3, 3, 3, 0, 2, 2, 0, 0, 2, 2, 1, 2, 2, 3, 2, 3, 0, 1, 2, 1, 2, 3, 0, 1, 2, 1, 0, 1, 1, 1, 0, 0, 0, 3, 0, 0, 3, 2, 1, 1, 3, 1, 1, 1, 1, 2, 3, 1, 2, 3, 0, 3, 2, 3, 0, 1, 3, 2, 3, 0, 3, 3, 2, 1, 0, 2, 3, 3, 2, 3, 1, 3, 1, 2, 3, 3, 0, 2, 1, 1, 1, 0, 1, 2, 2, 3, 0, 2, 0, 1, 3, 3, 3, 2, 3, 0, 1, 0, 3, 0, 0, 1, 3, 1, 0, 2, 0, 1, 1, 1, 2, 0, 0, 0, 3, 2, 3, 0, 2, 0, 3, 2, 3, 3, 0, 3, 1, 2, 3, 1, 3, 1, 2, 1, 2, 0, 3, 1, 3, 3, 3, 2, 3, 0, 3, 3, 0, 1, 1, 3, 0, 0, 0, 0, 1, 1, 1, 2, 3, 2, 0, 2, 0, 3, 2, 0, 3, 0, 2, 2, 0, 2, 2, 0, 3, 0, 0, 0, 1, 1, 2, 2, 3, 1, 1, 0, 2, 3, 0, 2, 0, 2, 2, 1, 1, 0, 1, 2, 0, 1, 0, 3, 2, 0, 3, 3, 3, 1, 0, 2, 0, 2, 3, 2, 2, 0, 1, 3, 1, 2, 3, 1, 2, 2, 0, 1, 2, 0, 2, 1, 3, 3, 1, 3, 2, 0, 0, 2, 2, 1, 0, 2, 3, 3, 3, 0, 2, 2, 2, 2, 2, 1, 2, 2, 0, 3, 1, 0, 1, 1, 1, 0, 1, 1, 0, 0, 0, 1, 2, 1, 2, 1, 3, 2, 1, 3, 2, 1, 1, 2, 3, 0, 0, 2, 0, 1, 1, 2, 0, 0, 1, 1, 2, 0, 2, 1, 2, 1, 0, 3, 3, 1, 3, 2, 3, 3, 0, 3, 0, 1, 3, 0, 1, 0, 2, 3, 2, 3, 1, 2, 1, 0, 1, 1, 1, 1, 0, 1, 3, 1, 3, 1, 2, 0, 3, 1, 1, 2, 3, 3, 0, 0, 0, 3, 2, 1, 2, 3, 1, 3, 0, 3, 2, 2, 3, 0, 2, 0, 0, 3, 0, 3, 0, 2, 2, 2, 3, 0, 0, 0, 0, 3, 0, 2, 1, 1, 2, 2, 1, 3, 1]\n"
     ]
    }
   ],
   "source": [
    "new_clusters=clusters(X,new_centroids)\n",
    "new_centroids=a.values\n",
    "\n",
    "for i in range(10):\n",
    "    a=find_centroids(new_clusters, X)\n",
    "    new_centroids=a.values\n",
    "    new_clusters=clusters(X,new_centroids)\n",
    "    \n",
    "print(new_centroids,'\\n',new_clusters)"
   ]
  },
  {
   "cell_type": "code",
   "execution_count": 39,
   "metadata": {},
   "outputs": [
    {
     "data": {
      "image/png": "[encoded data removed]",
      "text/plain": [
       "<Figure size 1080x504 with 1 Axes>"
      ]
     },
     "metadata": {
      "needs_background": "light"
     },
     "output_type": "display_data"
    }
   ],
   "source": [
    "plt.figure(figsize=(15,7))\n",
    "plt.scatter(X[:,0], X[:,1])\n",
    "plt.scatter(new_centroids[:, 0],new_centroids[:, 1], s=300, c='red')\n",
    "plt.show()"
   ]
  }
 ],
 "metadata": {
  "kernelspec": {
   "display_name": "Python 3",
   "language": "python",
   "name": "python3"
  },
  "language_info": {
   "codemirror_mode": {
    "name": "ipython",
    "version": 3
   },
   "file_extension": ".py",
   "mimetype": "text/x-python",
   "name": "python",
   "nbconvert_exporter": "python",
   "pygments_lexer": "ipython3",
   "version": "3.7.6"
  }
 },
 "nbformat": 4,
 "nbformat_minor": 2
}
