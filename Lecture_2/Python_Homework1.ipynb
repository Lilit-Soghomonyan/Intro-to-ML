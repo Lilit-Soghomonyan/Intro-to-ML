{
 "cells": [
  {
   "cell_type": "markdown",
   "metadata": {},
   "source": [
    "## Homework 1 "
   ]
  },
  {
   "cell_type": "markdown",
   "metadata": {},
   "source": [
    "### 1"
   ]
  },
  {
   "cell_type": "code",
   "execution_count": 2,
   "metadata": {},
   "outputs": [
    {
     "name": "stdout",
     "output_type": "stream",
     "text": [
      "Input number: 17\n",
      "list1 = [15, 17, 25, 22, 17, 25]\n",
      "Number of 17s = 2\n"
     ]
    }
   ],
   "source": [
    "list1 = [15,17,25,22,17,25]\n",
    "x = int(input('Input number: '))\n",
    "count = list1.count(x)\n",
    "print(\"list1 =\", list1)\n",
    "print(\"Number of %ss =\" %x, count)"
   ]
  },
  {
   "cell_type": "markdown",
   "metadata": {},
   "source": [
    "### 2"
   ]
  },
  {
   "cell_type": "code",
   "execution_count": 17,
   "metadata": {},
   "outputs": [
    {
     "name": "stdout",
     "output_type": "stream",
     "text": [
      "('a', 'b', 'c', 'd', 'e', 'f')\n",
      "('a', 'b', 'c', 'd', 'Hello', 'f')\n"
     ]
    }
   ],
   "source": [
    "t2 = (\"a\", \"b\", \"c\", \"d\", \"e\", \"f\")\n",
    "print(t2)\n",
    "t3=t2[:4] + (\"Hello\",) + t2[5:]\n",
    "print(t3)"
   ]
  },
  {
   "cell_type": "markdown",
   "metadata": {},
   "source": [
    "### 3"
   ]
  },
  {
   "cell_type": "code",
   "execution_count": 34,
   "metadata": {},
   "outputs": [
    {
     "name": "stdout",
     "output_type": "stream",
     "text": [
      "Please enter your weight: 50\n",
      "{'name': 'Armen', 'age': 15, 'grades': [10, 8, 8, 4, 6, 7], 'weight': 50}\n"
     ]
    }
   ],
   "source": [
    "d = {\"name\": \"Armen\", \"age\": 15, \"grades\":[10, 8, 8, 4, 6, 7]}\n",
    "if \"weight\" in d:\n",
    "    d[\"weight\"],\n",
    "else:\n",
    "    n = int(input(\"Please enter your weight: \"))\n",
    "\n",
    "d[\"weight\"] = n\n",
    "print(d)\n",
    "    "
   ]
  },
  {
   "cell_type": "markdown",
   "metadata": {},
   "source": [
    "### 4"
   ]
  },
  {
   "cell_type": "code",
   "execution_count": 46,
   "metadata": {},
   "outputs": [
    {
     "name": "stdout",
     "output_type": "stream",
     "text": [
      "Guess the number: 1\n",
      "Guess the number: 2\n",
      "Guess the number: 3\n",
      "Guess the number: 4\n",
      "Guess the number: 5\n",
      "That was a good guess!\n"
     ]
    }
   ],
   "source": [
    "correct_num = 5\n",
    "for i in range(10):\n",
    "    guess = int(input(\"Guess the number: \"))\n",
    "    if guess == correct_num:\n",
    "        print(\"That was a good guess!\")\n",
    "        break"
   ]
  },
  {
   "cell_type": "markdown",
   "metadata": {},
   "source": [
    "### 5"
   ]
  },
  {
   "cell_type": "code",
   "execution_count": 66,
   "metadata": {},
   "outputs": [
    {
     "data": {
      "text/plain": [
       "['aba', '1221']"
      ]
     },
     "execution_count": 66,
     "metadata": {},
     "output_type": "execute_result"
    }
   ],
   "source": [
    "list2 = ['a', 'abc', 'xyz', 's', 'aba', '1221']\n",
    "[x for x in list2 if len(x)>=2 and x[0]==x[-1]]"
   ]
  }
 ],
 "metadata": {
  "kernelspec": {
   "display_name": "Python 3",
   "language": "python",
   "name": "python3"
  },
  "language_info": {
   "codemirror_mode": {
    "name": "ipython",
    "version": 3
   },
   "file_extension": ".py",
   "mimetype": "text/x-python",
   "name": "python",
   "nbconvert_exporter": "python",
   "pygments_lexer": "ipython3",
   "version": "3.7.6"
  }
 },
 "nbformat": 4,
 "nbformat_minor": 4
}
